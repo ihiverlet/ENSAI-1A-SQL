{
 "cells": [
  {
   "cell_type": "markdown",
   "id": "d245be78-6257-4e2d-a298-72fdf2423e0a",
   "metadata": {},
   "source": [
    "## Nombres premiers"
   ]
  },
  {
   "cell_type": "code",
   "execution_count": 1,
   "id": "4c0a9d22-cdb6-4e71-87d9-72a895a17e50",
   "metadata": {},
   "outputs": [],
   "source": [
    "def crible_eratosthene(n):\n",
    "    \"\"\"Génère une liste de booléens où True indique qu'un nombre est premier.\"\"\"\n",
    "\n",
    "    est_premier = [True] * (n + 1)\n",
    "    est_premier[0] = est_premier[1] = False  # 0 et 1 ne sont pas premiers\n",
    "\n",
    "    for i in range(2, int(n**0.5) + 1):\n",
    "        if est_premier[i]:\n",
    "            for multiple in range(i * i, n + 1, i):\n",
    "                est_premier[multiple] = False\n",
    "\n",
    "    return est_premier"
   ]
  },
  {
   "cell_type": "code",
   "execution_count": 2,
   "id": "c9335b5c-5893-4363-a621-b55aa0eb62d6",
   "metadata": {},
   "outputs": [
    {
     "name": "stdout",
     "output_type": "stream",
     "text": [
      "8363\n"
     ]
    }
   ],
   "source": [
    "l = crible_eratosthene(100000)\n",
    "\n",
    "cpt = 0\n",
    "for i in l[10000:]:\n",
    "    if i:\n",
    "        cpt += 1\n",
    "\n",
    "print(cpt)"
   ]
  },
  {
   "cell_type": "code",
   "execution_count": 3,
   "id": "d70119fc-93c4-4fce-80b2-1200e7454232",
   "metadata": {},
   "outputs": [
    {
     "data": {
      "text/plain": [
       "True"
      ]
     },
     "execution_count": 3,
     "metadata": {},
     "output_type": "execute_result"
    }
   ],
   "source": [
    "l[8363]"
   ]
  },
  {
   "cell_type": "markdown",
   "id": "487cb4c6-fa14-435d-8968-c083a8f9f844",
   "metadata": {},
   "source": [
    "## Fichier des communes"
   ]
  },
  {
   "cell_type": "code",
   "execution_count": 4,
   "id": "c58b91ce-d351-4414-8c02-10f5e179a5be",
   "metadata": {},
   "outputs": [],
   "source": [
    "import pandas as pd"
   ]
  },
  {
   "cell_type": "code",
   "execution_count": 5,
   "id": "ed269eb4-f135-47ce-9ae6-2b80e80506d6",
   "metadata": {},
   "outputs": [],
   "source": [
    "import duckdb\n",
    "\n",
    "duckdb.sql(\"\"\"\n",
    "CREATE OR REPLACE VIEW commune AS\n",
    "FROM 'https://www.insee.fr/fr/statistiques/fichier/7766585/v_commune_2024.csv';\n",
    "\"\"\")"
   ]
  },
  {
   "cell_type": "code",
   "execution_count": 6,
   "id": "deeb1114-ca46-4a86-bac9-1110a42f7dd1",
   "metadata": {},
   "outputs": [
    {
     "data": {
      "text/html": [
       "<div>\n",
       "<style scoped>\n",
       "    .dataframe tbody tr th:only-of-type {\n",
       "        vertical-align: middle;\n",
       "    }\n",
       "\n",
       "    .dataframe tbody tr th {\n",
       "        vertical-align: top;\n",
       "    }\n",
       "\n",
       "    .dataframe thead th {\n",
       "        text-align: right;\n",
       "    }\n",
       "</style>\n",
       "<table border=\"1\" class=\"dataframe\">\n",
       "  <thead>\n",
       "    <tr style=\"text-align: right;\">\n",
       "      <th></th>\n",
       "      <th>TYPECOM</th>\n",
       "      <th>COM</th>\n",
       "      <th>REG</th>\n",
       "      <th>DEP</th>\n",
       "      <th>CTCD</th>\n",
       "      <th>ARR</th>\n",
       "      <th>TNCC</th>\n",
       "      <th>NCC</th>\n",
       "      <th>NCCENR</th>\n",
       "      <th>LIBELLE</th>\n",
       "      <th>CAN</th>\n",
       "      <th>COMPARENT</th>\n",
       "    </tr>\n",
       "  </thead>\n",
       "  <tbody>\n",
       "    <tr>\n",
       "      <th>0</th>\n",
       "      <td>COM</td>\n",
       "      <td>01001</td>\n",
       "      <td>84.0</td>\n",
       "      <td>01</td>\n",
       "      <td>01D</td>\n",
       "      <td>012</td>\n",
       "      <td>5</td>\n",
       "      <td>ABERGEMENT CLEMENCIAT</td>\n",
       "      <td>Abergement-Clémenciat</td>\n",
       "      <td>L'Abergement-Clémenciat</td>\n",
       "      <td>0108</td>\n",
       "      <td>None</td>\n",
       "    </tr>\n",
       "    <tr>\n",
       "      <th>1</th>\n",
       "      <td>COM</td>\n",
       "      <td>01002</td>\n",
       "      <td>84.0</td>\n",
       "      <td>01</td>\n",
       "      <td>01D</td>\n",
       "      <td>011</td>\n",
       "      <td>5</td>\n",
       "      <td>ABERGEMENT DE VAREY</td>\n",
       "      <td>Abergement-de-Varey</td>\n",
       "      <td>L'Abergement-de-Varey</td>\n",
       "      <td>0101</td>\n",
       "      <td>None</td>\n",
       "    </tr>\n",
       "    <tr>\n",
       "      <th>2</th>\n",
       "      <td>COM</td>\n",
       "      <td>01004</td>\n",
       "      <td>84.0</td>\n",
       "      <td>01</td>\n",
       "      <td>01D</td>\n",
       "      <td>011</td>\n",
       "      <td>1</td>\n",
       "      <td>AMBERIEU EN BUGEY</td>\n",
       "      <td>Ambérieu-en-Bugey</td>\n",
       "      <td>Ambérieu-en-Bugey</td>\n",
       "      <td>0101</td>\n",
       "      <td>None</td>\n",
       "    </tr>\n",
       "    <tr>\n",
       "      <th>3</th>\n",
       "      <td>COM</td>\n",
       "      <td>01005</td>\n",
       "      <td>84.0</td>\n",
       "      <td>01</td>\n",
       "      <td>01D</td>\n",
       "      <td>012</td>\n",
       "      <td>1</td>\n",
       "      <td>AMBERIEUX EN DOMBES</td>\n",
       "      <td>Ambérieux-en-Dombes</td>\n",
       "      <td>Ambérieux-en-Dombes</td>\n",
       "      <td>0122</td>\n",
       "      <td>None</td>\n",
       "    </tr>\n",
       "    <tr>\n",
       "      <th>4</th>\n",
       "      <td>COM</td>\n",
       "      <td>01006</td>\n",
       "      <td>84.0</td>\n",
       "      <td>01</td>\n",
       "      <td>01D</td>\n",
       "      <td>011</td>\n",
       "      <td>1</td>\n",
       "      <td>AMBLEON</td>\n",
       "      <td>Ambléon</td>\n",
       "      <td>Ambléon</td>\n",
       "      <td>0104</td>\n",
       "      <td>None</td>\n",
       "    </tr>\n",
       "    <tr>\n",
       "      <th>...</th>\n",
       "      <td>...</td>\n",
       "      <td>...</td>\n",
       "      <td>...</td>\n",
       "      <td>...</td>\n",
       "      <td>...</td>\n",
       "      <td>...</td>\n",
       "      <td>...</td>\n",
       "      <td>...</td>\n",
       "      <td>...</td>\n",
       "      <td>...</td>\n",
       "      <td>...</td>\n",
       "      <td>...</td>\n",
       "    </tr>\n",
       "    <tr>\n",
       "      <th>37539</th>\n",
       "      <td>COM</td>\n",
       "      <td>97613</td>\n",
       "      <td>6.0</td>\n",
       "      <td>976</td>\n",
       "      <td>976D</td>\n",
       "      <td>None</td>\n",
       "      <td>0</td>\n",
       "      <td>M TSANGAMOUJI</td>\n",
       "      <td>M'Tsangamouji</td>\n",
       "      <td>M'Tsangamouji</td>\n",
       "      <td>97613</td>\n",
       "      <td>None</td>\n",
       "    </tr>\n",
       "    <tr>\n",
       "      <th>37540</th>\n",
       "      <td>COM</td>\n",
       "      <td>97614</td>\n",
       "      <td>6.0</td>\n",
       "      <td>976</td>\n",
       "      <td>976D</td>\n",
       "      <td>None</td>\n",
       "      <td>1</td>\n",
       "      <td>OUANGANI</td>\n",
       "      <td>Ouangani</td>\n",
       "      <td>Ouangani</td>\n",
       "      <td>97610</td>\n",
       "      <td>None</td>\n",
       "    </tr>\n",
       "    <tr>\n",
       "      <th>37541</th>\n",
       "      <td>COM</td>\n",
       "      <td>97615</td>\n",
       "      <td>6.0</td>\n",
       "      <td>976</td>\n",
       "      <td>976D</td>\n",
       "      <td>None</td>\n",
       "      <td>0</td>\n",
       "      <td>PAMANDZI</td>\n",
       "      <td>Pamandzi</td>\n",
       "      <td>Pamandzi</td>\n",
       "      <td>97611</td>\n",
       "      <td>None</td>\n",
       "    </tr>\n",
       "    <tr>\n",
       "      <th>37542</th>\n",
       "      <td>COM</td>\n",
       "      <td>97616</td>\n",
       "      <td>6.0</td>\n",
       "      <td>976</td>\n",
       "      <td>976D</td>\n",
       "      <td>None</td>\n",
       "      <td>0</td>\n",
       "      <td>SADA</td>\n",
       "      <td>Sada</td>\n",
       "      <td>Sada</td>\n",
       "      <td>97612</td>\n",
       "      <td>None</td>\n",
       "    </tr>\n",
       "    <tr>\n",
       "      <th>37543</th>\n",
       "      <td>COM</td>\n",
       "      <td>97617</td>\n",
       "      <td>6.0</td>\n",
       "      <td>976</td>\n",
       "      <td>976D</td>\n",
       "      <td>None</td>\n",
       "      <td>0</td>\n",
       "      <td>TSINGONI</td>\n",
       "      <td>Tsingoni</td>\n",
       "      <td>Tsingoni</td>\n",
       "      <td>97613</td>\n",
       "      <td>None</td>\n",
       "    </tr>\n",
       "  </tbody>\n",
       "</table>\n",
       "<p>37544 rows × 12 columns</p>\n",
       "</div>"
      ],
      "text/plain": [
       "      TYPECOM    COM   REG  DEP  CTCD   ARR  TNCC                    NCC  \\\n",
       "0         COM  01001  84.0   01   01D   012     5  ABERGEMENT CLEMENCIAT   \n",
       "1         COM  01002  84.0   01   01D   011     5    ABERGEMENT DE VAREY   \n",
       "2         COM  01004  84.0   01   01D   011     1      AMBERIEU EN BUGEY   \n",
       "3         COM  01005  84.0   01   01D   012     1    AMBERIEUX EN DOMBES   \n",
       "4         COM  01006  84.0   01   01D   011     1                AMBLEON   \n",
       "...       ...    ...   ...  ...   ...   ...   ...                    ...   \n",
       "37539     COM  97613   6.0  976  976D  None     0          M TSANGAMOUJI   \n",
       "37540     COM  97614   6.0  976  976D  None     1               OUANGANI   \n",
       "37541     COM  97615   6.0  976  976D  None     0               PAMANDZI   \n",
       "37542     COM  97616   6.0  976  976D  None     0                   SADA   \n",
       "37543     COM  97617   6.0  976  976D  None     0               TSINGONI   \n",
       "\n",
       "                      NCCENR                  LIBELLE    CAN COMPARENT  \n",
       "0      Abergement-Clémenciat  L'Abergement-Clémenciat   0108      None  \n",
       "1        Abergement-de-Varey    L'Abergement-de-Varey   0101      None  \n",
       "2          Ambérieu-en-Bugey        Ambérieu-en-Bugey   0101      None  \n",
       "3        Ambérieux-en-Dombes      Ambérieux-en-Dombes   0122      None  \n",
       "4                    Ambléon                  Ambléon   0104      None  \n",
       "...                      ...                      ...    ...       ...  \n",
       "37539          M'Tsangamouji            M'Tsangamouji  97613      None  \n",
       "37540               Ouangani                 Ouangani  97610      None  \n",
       "37541               Pamandzi                 Pamandzi  97611      None  \n",
       "37542                   Sada                     Sada  97612      None  \n",
       "37543               Tsingoni                 Tsingoni  97613      None  \n",
       "\n",
       "[37544 rows x 12 columns]"
      ]
     },
     "execution_count": 6,
     "metadata": {},
     "output_type": "execute_result"
    }
   ],
   "source": [
    "duckdb.sql(\"\"\"\n",
    "SELECT *\n",
    "  FROM commune\n",
    "\"\"\").to_df()"
   ]
  },
  {
   "cell_type": "code",
   "execution_count": 7,
   "id": "3748dbee-8385-49bc-a29b-64d9c59d0d09",
   "metadata": {},
   "outputs": [
    {
     "data": {
      "text/html": [
       "<div>\n",
       "<style scoped>\n",
       "    .dataframe tbody tr th:only-of-type {\n",
       "        vertical-align: middle;\n",
       "    }\n",
       "\n",
       "    .dataframe tbody tr th {\n",
       "        vertical-align: top;\n",
       "    }\n",
       "\n",
       "    .dataframe thead th {\n",
       "        text-align: right;\n",
       "    }\n",
       "</style>\n",
       "<table border=\"1\" class=\"dataframe\">\n",
       "  <thead>\n",
       "    <tr style=\"text-align: right;\">\n",
       "      <th></th>\n",
       "      <th>REG</th>\n",
       "    </tr>\n",
       "  </thead>\n",
       "  <tbody>\n",
       "    <tr>\n",
       "      <th>0</th>\n",
       "      <td>6</td>\n",
       "    </tr>\n",
       "  </tbody>\n",
       "</table>\n",
       "</div>"
      ],
      "text/plain": [
       "   REG\n",
       "0    6"
      ]
     },
     "execution_count": 7,
     "metadata": {},
     "output_type": "execute_result"
    }
   ],
   "source": [
    "duckdb.sql(\"\"\"\n",
    "SELECT reg\n",
    "  FROM commune\n",
    " WHERE NCC = 'MAMOUDZOU';\n",
    "\"\"\").to_df()"
   ]
  },
  {
   "cell_type": "code",
   "execution_count": 8,
   "id": "245de76a-5374-4494-a737-570b2cb0a7d8",
   "metadata": {},
   "outputs": [
    {
     "data": {
      "text/html": [
       "<div>\n",
       "<style scoped>\n",
       "    .dataframe tbody tr th:only-of-type {\n",
       "        vertical-align: middle;\n",
       "    }\n",
       "\n",
       "    .dataframe tbody tr th {\n",
       "        vertical-align: top;\n",
       "    }\n",
       "\n",
       "    .dataframe thead th {\n",
       "        text-align: right;\n",
       "    }\n",
       "</style>\n",
       "<table border=\"1\" class=\"dataframe\">\n",
       "  <thead>\n",
       "    <tr style=\"text-align: right;\">\n",
       "      <th></th>\n",
       "      <th>count(1)</th>\n",
       "    </tr>\n",
       "  </thead>\n",
       "  <tbody>\n",
       "    <tr>\n",
       "      <th>0</th>\n",
       "      <td>22</td>\n",
       "    </tr>\n",
       "  </tbody>\n",
       "</table>\n",
       "</div>"
      ],
      "text/plain": [
       "   count(1)\n",
       "0        22"
      ]
     },
     "execution_count": 8,
     "metadata": {},
     "output_type": "execute_result"
    }
   ],
   "source": [
    "duckdb.sql(\"\"\"\n",
    "SELECT COUNT(1)\n",
    "  FROM commune\n",
    " WHERE dep = '973';\n",
    "\"\"\").to_df()"
   ]
  },
  {
   "cell_type": "code",
   "execution_count": 9,
   "id": "7bc7931a-4548-4575-bdea-dc34b2b599c5",
   "metadata": {},
   "outputs": [
    {
     "data": {
      "text/html": [
       "<div>\n",
       "<style scoped>\n",
       "    .dataframe tbody tr th:only-of-type {\n",
       "        vertical-align: middle;\n",
       "    }\n",
       "\n",
       "    .dataframe tbody tr th {\n",
       "        vertical-align: top;\n",
       "    }\n",
       "\n",
       "    .dataframe thead th {\n",
       "        text-align: right;\n",
       "    }\n",
       "</style>\n",
       "<table border=\"1\" class=\"dataframe\">\n",
       "  <thead>\n",
       "    <tr style=\"text-align: right;\">\n",
       "      <th></th>\n",
       "      <th>count(1)</th>\n",
       "    </tr>\n",
       "  </thead>\n",
       "  <tbody>\n",
       "    <tr>\n",
       "      <th>0</th>\n",
       "      <td>32</td>\n",
       "    </tr>\n",
       "  </tbody>\n",
       "</table>\n",
       "</div>"
      ],
      "text/plain": [
       "   count(1)\n",
       "0        32"
      ]
     },
     "execution_count": 9,
     "metadata": {},
     "output_type": "execute_result"
    }
   ],
   "source": [
    "duckdb.sql(\"\"\"\n",
    "SELECT COUNT(1)\n",
    "  FROM commune\n",
    " WHERE dep IN ('02','60','80')\n",
    "   AND NCC LIKE '%L%L%L%L%';\n",
    "\"\"\").to_df()"
   ]
  },
  {
   "cell_type": "code",
   "execution_count": 10,
   "id": "04cfe2bf-44bf-4c62-966a-804dce67474f",
   "metadata": {},
   "outputs": [
    {
     "data": {
      "text/html": [
       "<div>\n",
       "<style scoped>\n",
       "    .dataframe tbody tr th:only-of-type {\n",
       "        vertical-align: middle;\n",
       "    }\n",
       "\n",
       "    .dataframe tbody tr th {\n",
       "        vertical-align: top;\n",
       "    }\n",
       "\n",
       "    .dataframe thead th {\n",
       "        text-align: right;\n",
       "    }\n",
       "</style>\n",
       "<table border=\"1\" class=\"dataframe\">\n",
       "  <thead>\n",
       "    <tr style=\"text-align: right;\">\n",
       "      <th></th>\n",
       "      <th>DEP</th>\n",
       "      <th>nb_communes</th>\n",
       "      <th>rang</th>\n",
       "    </tr>\n",
       "  </thead>\n",
       "  <tbody>\n",
       "    <tr>\n",
       "      <th>0</th>\n",
       "      <td>62</td>\n",
       "      <td>890</td>\n",
       "      <td>1</td>\n",
       "    </tr>\n",
       "    <tr>\n",
       "      <th>1</th>\n",
       "      <td>02</td>\n",
       "      <td>798</td>\n",
       "      <td>2</td>\n",
       "    </tr>\n",
       "    <tr>\n",
       "      <th>2</th>\n",
       "      <td>80</td>\n",
       "      <td>772</td>\n",
       "      <td>3</td>\n",
       "    </tr>\n",
       "    <tr>\n",
       "      <th>3</th>\n",
       "      <td>57</td>\n",
       "      <td>725</td>\n",
       "      <td>4</td>\n",
       "    </tr>\n",
       "    <tr>\n",
       "      <th>4</th>\n",
       "      <td>76</td>\n",
       "      <td>708</td>\n",
       "      <td>5</td>\n",
       "    </tr>\n",
       "    <tr>\n",
       "      <th>5</th>\n",
       "      <td>21</td>\n",
       "      <td>698</td>\n",
       "      <td>6</td>\n",
       "    </tr>\n",
       "    <tr>\n",
       "      <th>6</th>\n",
       "      <td>60</td>\n",
       "      <td>680</td>\n",
       "      <td>7</td>\n",
       "    </tr>\n",
       "    <tr>\n",
       "      <th>7</th>\n",
       "      <td>59</td>\n",
       "      <td>648</td>\n",
       "      <td>8</td>\n",
       "    </tr>\n",
       "    <tr>\n",
       "      <th>8</th>\n",
       "      <td>51</td>\n",
       "      <td>611</td>\n",
       "      <td>9</td>\n",
       "    </tr>\n",
       "    <tr>\n",
       "      <th>9</th>\n",
       "      <td>54</td>\n",
       "      <td>591</td>\n",
       "      <td>10</td>\n",
       "    </tr>\n",
       "    <tr>\n",
       "      <th>10</th>\n",
       "      <td>31</td>\n",
       "      <td>586</td>\n",
       "      <td>11</td>\n",
       "    </tr>\n",
       "    <tr>\n",
       "      <th>11</th>\n",
       "      <td>27</td>\n",
       "      <td>585</td>\n",
       "      <td>12</td>\n",
       "    </tr>\n",
       "    <tr>\n",
       "      <th>12</th>\n",
       "      <td>25</td>\n",
       "      <td>569</td>\n",
       "      <td>13</td>\n",
       "    </tr>\n",
       "    <tr>\n",
       "      <th>13</th>\n",
       "      <td>71</td>\n",
       "      <td>564</td>\n",
       "      <td>14</td>\n",
       "    </tr>\n",
       "    <tr>\n",
       "      <th>14</th>\n",
       "      <td>64</td>\n",
       "      <td>545</td>\n",
       "      <td>15</td>\n",
       "    </tr>\n",
       "    <tr>\n",
       "      <th>15</th>\n",
       "      <td>70</td>\n",
       "      <td>539</td>\n",
       "      <td>16</td>\n",
       "    </tr>\n",
       "    <tr>\n",
       "      <th>16</th>\n",
       "      <td>33</td>\n",
       "      <td>535</td>\n",
       "      <td>17</td>\n",
       "    </tr>\n",
       "    <tr>\n",
       "      <th>17</th>\n",
       "      <td>14</td>\n",
       "      <td>528</td>\n",
       "      <td>18</td>\n",
       "    </tr>\n",
       "    <tr>\n",
       "      <th>18</th>\n",
       "      <td>67</td>\n",
       "      <td>514</td>\n",
       "      <td>19</td>\n",
       "    </tr>\n",
       "    <tr>\n",
       "      <th>19</th>\n",
       "      <td>38</td>\n",
       "      <td>512</td>\n",
       "      <td>20</td>\n",
       "    </tr>\n",
       "    <tr>\n",
       "      <th>20</th>\n",
       "      <td>88</td>\n",
       "      <td>507</td>\n",
       "      <td>21</td>\n",
       "    </tr>\n",
       "    <tr>\n",
       "      <th>21</th>\n",
       "      <td>77</td>\n",
       "      <td>507</td>\n",
       "      <td>21</td>\n",
       "    </tr>\n",
       "    <tr>\n",
       "      <th>22</th>\n",
       "      <td>24</td>\n",
       "      <td>503</td>\n",
       "      <td>23</td>\n",
       "    </tr>\n",
       "  </tbody>\n",
       "</table>\n",
       "</div>"
      ],
      "text/plain": [
       "   DEP  nb_communes  rang\n",
       "0   62          890     1\n",
       "1   02          798     2\n",
       "2   80          772     3\n",
       "3   57          725     4\n",
       "4   76          708     5\n",
       "5   21          698     6\n",
       "6   60          680     7\n",
       "7   59          648     8\n",
       "8   51          611     9\n",
       "9   54          591    10\n",
       "10  31          586    11\n",
       "11  27          585    12\n",
       "12  25          569    13\n",
       "13  71          564    14\n",
       "14  64          545    15\n",
       "15  70          539    16\n",
       "16  33          535    17\n",
       "17  14          528    18\n",
       "18  67          514    19\n",
       "19  38          512    20\n",
       "20  88          507    21\n",
       "21  77          507    21\n",
       "22  24          503    23"
      ]
     },
     "execution_count": 10,
     "metadata": {},
     "output_type": "execute_result"
    }
   ],
   "source": [
    "duckdb.sql(\"\"\"\n",
    "SELECT dep,\n",
    "       COUNT(1) AS nb_communes,\n",
    "       RANK() OVER (ORDER BY COUNT(1) DESC) AS rang\n",
    "  FROM commune\n",
    " WHERE dep IS NOT NULL\n",
    " GROUP BY dep\n",
    "HAVING nb_communes >= 500\n",
    " ORDER BY 2 DESC;\n",
    "\"\"\").to_df()"
   ]
  },
  {
   "cell_type": "code",
   "execution_count": 18,
   "id": "80aeeb59-3677-4e5d-a260-b884fbcab990",
   "metadata": {},
   "outputs": [
    {
     "data": {
      "text/html": [
       "<div>\n",
       "<style scoped>\n",
       "    .dataframe tbody tr th:only-of-type {\n",
       "        vertical-align: middle;\n",
       "    }\n",
       "\n",
       "    .dataframe tbody tr th {\n",
       "        vertical-align: top;\n",
       "    }\n",
       "\n",
       "    .dataframe thead th {\n",
       "        text-align: right;\n",
       "    }\n",
       "</style>\n",
       "<table border=\"1\" class=\"dataframe\">\n",
       "  <thead>\n",
       "    <tr style=\"text-align: right;\">\n",
       "      <th></th>\n",
       "      <th>DEP</th>\n",
       "    </tr>\n",
       "  </thead>\n",
       "  <tbody>\n",
       "    <tr>\n",
       "      <th>0</th>\n",
       "      <td>51</td>\n",
       "    </tr>\n",
       "  </tbody>\n",
       "</table>\n",
       "</div>"
      ],
      "text/plain": [
       "  DEP\n",
       "0  51"
      ]
     },
     "execution_count": 18,
     "metadata": {},
     "output_type": "execute_result"
    }
   ],
   "source": [
    "duckdb.sql(\"\"\"\n",
    "SELECT dep\n",
    "  FROM commune\n",
    " WHERE LENGTH(ncc) = (SELECT max(LENGTH(ncc))\n",
    "                        FROM commune);\n",
    "\"\"\").to_df()"
   ]
  },
  {
   "cell_type": "markdown",
   "id": "93fc5dab-eae0-4fd3-9437-9208b861c7f5",
   "metadata": {},
   "source": [
    "## Polars"
   ]
  },
  {
   "cell_type": "code",
   "execution_count": 12,
   "id": "269ad091-0443-4e0a-9ee5-63edf148d90b",
   "metadata": {},
   "outputs": [],
   "source": [
    "import os\n",
    "import polars as pl\n",
    "\n",
    "s3_endpoint = f'https://{os.environ[\"AWS_S3_ENDPOINT\"]}'\n",
    "s3_access_key = os.environ[\"AWS_ACCESS_KEY_ID\"]\n",
    "s3_secret_access_key = os.environ[\"AWS_SECRET_ACCESS_KEY\"]\n",
    "s3_session_token = os.environ[\"AWS_SESSION_TOKEN\"]\n",
    "s3_region = os.environ[\"AWS_DEFAULT_REGION\"]\n",
    "\n",
    "s3_username = os.environ[\"VAULT_TOP_DIR\"] # un peu bancal pour avoir le username"
   ]
  },
  {
   "cell_type": "code",
   "execution_count": 13,
   "id": "ac9e79b3-1b36-4e08-be6a-ea2e25a363d8",
   "metadata": {},
   "outputs": [],
   "source": [
    "s3_file_path = f\"s3://{s3_username}/ENSAI/SQL/tp3-longueur-fil.parquet\"\n",
    "\n",
    "storage_options = {\n",
    "    \"aws_endpoint\":  s3_endpoint,\n",
    "    \"aws_access_key_id\": s3_access_key,\n",
    "    \"aws_secret_access_key\": s3_secret_access_key,\n",
    "    \"aws_token\": s3_session_token,\n",
    "    \"aws_region\": s3_region\n",
    "  }\n",
    "\n",
    "file = pl.scan_parquet(source=s3_file_path, \n",
    "                     storage_options=storage_options)"
   ]
  },
  {
   "cell_type": "code",
   "execution_count": 14,
   "id": "7f9e263e-d3e6-4953-a72b-0971ab6a2f5e",
   "metadata": {},
   "outputs": [],
   "source": [
    "df = file.collect()"
   ]
  },
  {
   "cell_type": "code",
   "execution_count": 15,
   "id": "51384aa6-66c9-4cd1-bd6c-7232723cc3da",
   "metadata": {},
   "outputs": [
    {
     "name": "stdout",
     "output_type": "stream",
     "text": [
      "shape: (50, 2)\n",
      "┌─────────────────┬──────────┐\n",
      "│ vetement        ┆ longueur │\n",
      "│ ---             ┆ ---      │\n",
      "│ str             ┆ i64      │\n",
      "╞═════════════════╪══════════╡\n",
      "│ slip            ┆ 120      │\n",
      "│ culotte         ┆ 150      │\n",
      "│ chemise         ┆ 200      │\n",
      "│ pantalon        ┆ 180      │\n",
      "│ jupe            ┆ 160      │\n",
      "│ …               ┆ …        │\n",
      "│ chemisette      ┆ 130      │\n",
      "│ cape            ┆ 115      │\n",
      "│ body            ┆ 145      │\n",
      "│ veston          ┆ 200      │\n",
      "│ robe de chambre ┆ 225      │\n",
      "└─────────────────┴──────────┘\n"
     ]
    }
   ],
   "source": [
    "print(df)"
   ]
  },
  {
   "cell_type": "code",
   "execution_count": 16,
   "id": "6461a84f-358e-4c71-a882-6bfb9c9f6a46",
   "metadata": {},
   "outputs": [
    {
     "data": {
      "text/html": [
       "<div><style>\n",
       ".dataframe > thead > tr,\n",
       ".dataframe > tbody > tr {\n",
       "  text-align: right;\n",
       "  white-space: pre-wrap;\n",
       "}\n",
       "</style>\n",
       "<small>shape: (1, 2)</small><table border=\"1\" class=\"dataframe\"><thead><tr><th>vetement</th><th>longueur</th></tr><tr><td>str</td><td>i64</td></tr></thead><tbody><tr><td>&quot;gilet&quot;</td><td>170</td></tr></tbody></table></div>"
      ],
      "text/plain": [
       "shape: (1, 2)\n",
       "┌──────────┬──────────┐\n",
       "│ vetement ┆ longueur │\n",
       "│ ---      ┆ ---      │\n",
       "│ str      ┆ i64      │\n",
       "╞══════════╪══════════╡\n",
       "│ gilet    ┆ 170      │\n",
       "└──────────┴──────────┘"
      ]
     },
     "execution_count": 16,
     "metadata": {},
     "output_type": "execute_result"
    }
   ],
   "source": [
    "df.filter(pl.col(\"vetement\") == \"gilet\")"
   ]
  },
  {
   "cell_type": "markdown",
   "id": "89aff45a-568f-412f-86b4-071d3a16d29f",
   "metadata": {},
   "source": [
    "## Diffusion"
   ]
  },
  {
   "cell_type": "code",
   "execution_count": 19,
   "id": "e2b28360-b807-47f8-a998-a6b8d6945386",
   "metadata": {},
   "outputs": [],
   "source": [
    "file_prenoms = pl.scan_parquet(source=\"s3://ldeneuville-ensai/diffusion/ENSAI/SQL-TP/prenoms-nat2022.parquet\", \n",
    "                               storage_options=storage_options)"
   ]
  },
  {
   "cell_type": "code",
   "execution_count": 20,
   "id": "13c3b363-c211-44c4-98cc-9189953a75cc",
   "metadata": {},
   "outputs": [],
   "source": [
    "top10f2021 = file_prenoms\\\n",
    "    .filter((pl.col(\"sexe\") == 2) & \n",
    "            (pl.col(\"annais\") == \"2021\") & \n",
    "            (pl.col(\"preusuel\") != \"_PRENOMS_RARES\"))\\\n",
    "    .group_by(\"preusuel\")\\\n",
    "    .agg(pl.col(\"nombre\").sum().alias(\"nombre_total\"))\\\n",
    "    .sort(\"nombre_total\", descending=True)\\\n",
    "    .limit(10)\\\n",
    "    .collect()"
   ]
  },
  {
   "cell_type": "code",
   "execution_count": 21,
   "id": "57688bbb-83b1-4ed9-baeb-e6a3d1dbbd1b",
   "metadata": {
    "scrolled": true
   },
   "outputs": [
    {
     "data": {
      "text/html": [
       "<div><style>\n",
       ".dataframe > thead > tr,\n",
       ".dataframe > tbody > tr {\n",
       "  text-align: right;\n",
       "  white-space: pre-wrap;\n",
       "}\n",
       "</style>\n",
       "<small>shape: (10, 2)</small><table border=\"1\" class=\"dataframe\"><thead><tr><th>preusuel</th><th>nombre_total</th></tr><tr><td>str</td><td>i64</td></tr></thead><tbody><tr><td>&quot;JADE&quot;</td><td>3800</td></tr><tr><td>&quot;LOUISE&quot;</td><td>3768</td></tr><tr><td>&quot;EMMA&quot;</td><td>3201</td></tr><tr><td>&quot;AMBRE&quot;</td><td>3017</td></tr><tr><td>&quot;ALICE&quot;</td><td>2767</td></tr><tr><td>&quot;ROSE&quot;</td><td>2702</td></tr><tr><td>&quot;ANNA&quot;</td><td>2514</td></tr><tr><td>&quot;ALBA&quot;</td><td>2505</td></tr><tr><td>&quot;ROMY&quot;</td><td>2447</td></tr><tr><td>&quot;MIA&quot;</td><td>2431</td></tr></tbody></table></div>"
      ],
      "text/plain": [
       "shape: (10, 2)\n",
       "┌──────────┬──────────────┐\n",
       "│ preusuel ┆ nombre_total │\n",
       "│ ---      ┆ ---          │\n",
       "│ str      ┆ i64          │\n",
       "╞══════════╪══════════════╡\n",
       "│ JADE     ┆ 3800         │\n",
       "│ LOUISE   ┆ 3768         │\n",
       "│ EMMA     ┆ 3201         │\n",
       "│ AMBRE    ┆ 3017         │\n",
       "│ ALICE    ┆ 2767         │\n",
       "│ ROSE     ┆ 2702         │\n",
       "│ ANNA     ┆ 2514         │\n",
       "│ ALBA     ┆ 2505         │\n",
       "│ ROMY     ┆ 2447         │\n",
       "│ MIA      ┆ 2431         │\n",
       "└──────────┴──────────────┘"
      ]
     },
     "execution_count": 21,
     "metadata": {},
     "output_type": "execute_result"
    }
   ],
   "source": [
    "top10f2021"
   ]
  },
  {
   "cell_type": "code",
   "execution_count": 22,
   "id": "d85996b2-5d61-4adb-94aa-1ec6cda01953",
   "metadata": {},
   "outputs": [
    {
     "data": {
      "text/html": [
       "<div><style>\n",
       ".dataframe > thead > tr,\n",
       ".dataframe > tbody > tr {\n",
       "  text-align: right;\n",
       "  white-space: pre-wrap;\n",
       "}\n",
       "</style>\n",
       "<small>shape: (10, 2)</small><table border=\"1\" class=\"dataframe\"><thead><tr><th>preusuel</th><th>nombre_total</th></tr><tr><td>str</td><td>i64</td></tr></thead><tbody><tr><td>&quot;JADE&quot;</td><td>3800</td></tr><tr><td>&quot;LOUISE&quot;</td><td>3768</td></tr><tr><td>&quot;EMMA&quot;</td><td>3201</td></tr><tr><td>&quot;AMBRE&quot;</td><td>3017</td></tr><tr><td>&quot;ALICE&quot;</td><td>2767</td></tr><tr><td>&quot;ROSE&quot;</td><td>2702</td></tr><tr><td>&quot;ANNA&quot;</td><td>2514</td></tr><tr><td>&quot;ALBA&quot;</td><td>2505</td></tr><tr><td>&quot;ROMY&quot;</td><td>2447</td></tr><tr><td>&quot;MIA&quot;</td><td>2431</td></tr></tbody></table></div>"
      ],
      "text/plain": [
       "shape: (10, 2)\n",
       "┌──────────┬──────────────┐\n",
       "│ preusuel ┆ nombre_total │\n",
       "│ ---      ┆ ---          │\n",
       "│ str      ┆ i64          │\n",
       "╞══════════╪══════════════╡\n",
       "│ JADE     ┆ 3800         │\n",
       "│ LOUISE   ┆ 3768         │\n",
       "│ EMMA     ┆ 3201         │\n",
       "│ AMBRE    ┆ 3017         │\n",
       "│ ALICE    ┆ 2767         │\n",
       "│ ROSE     ┆ 2702         │\n",
       "│ ANNA     ┆ 2514         │\n",
       "│ ALBA     ┆ 2505         │\n",
       "│ ROMY     ┆ 2447         │\n",
       "│ MIA      ┆ 2431         │\n",
       "└──────────┴──────────────┘"
      ]
     },
     "execution_count": 22,
     "metadata": {},
     "output_type": "execute_result"
    }
   ],
   "source": [
    "top10f2021_sql = file_prenoms\\\n",
    "    .sql(\"\"\"\n",
    "      SELECT preusuel, \n",
    "             SUM(nombre) AS nombre_total\n",
    "        FROM self\n",
    "       WHERE preusuel <> '_PRENOMS_RARES'\n",
    "         AND annais = '2021'\n",
    "         AND sexe = 2\n",
    "       GROUP BY preusuel\n",
    "       ORDER BY nombre_total DESC\n",
    "       LIMIT 10\n",
    "    \"\"\")\\\n",
    "    .collect()\n",
    "\n",
    "top10f2021_sql"
   ]
  },
  {
   "cell_type": "code",
   "execution_count": 23,
   "id": "2188f7ec-29eb-470e-a63c-5555a3c245ca",
   "metadata": {},
   "outputs": [
    {
     "name": "stdout",
     "output_type": "stream",
     "text": [
      "shape: (21, 2)\n",
      "┌────────┬──────────────┐\n",
      "│ annais ┆ nombre_total │\n",
      "│ ---    ┆ ---          │\n",
      "│ str    ┆ i64          │\n",
      "╞════════╪══════════════╡\n",
      "│ 1960   ┆ 251          │\n",
      "│ 1961   ┆ 369          │\n",
      "│ 1962   ┆ 357          │\n",
      "│ 1963   ┆ 383          │\n",
      "│ 1964   ┆ 449          │\n",
      "│ …      ┆ …            │\n",
      "│ 1976   ┆ 1248         │\n",
      "│ 1977   ┆ 1101         │\n",
      "│ 1978   ┆ 925          │\n",
      "│ 1979   ┆ 882          │\n",
      "│ 1980   ┆ 730          │\n",
      "└────────┴──────────────┘\n"
     ]
    }
   ],
   "source": [
    "prenom = \"Katia\"\n",
    "annee_debut, annee_fin = 1960, 1980\n",
    "\n",
    "df_prenom_annee = file_prenoms\\\n",
    "    .filter((pl.col(\"preusuel\") == prenom.upper()) & \n",
    "            (pl.col(\"annais\").str.to_integer(strict=False).is_not_null()) &  # Convertir et exclure les nulls\n",
    "            (pl.col(\"annais\").str.to_integer(strict=False) >= annee_debut) & \n",
    "            (pl.col(\"annais\").str.to_integer(strict=False) <= annee_fin))\\\n",
    "    .group_by(\"annais\")\\\n",
    "    .agg(pl.col(\"nombre\").sum().alias(\"nombre_total\"))\\\n",
    "    .sort(\"annais\")\\\n",
    "    .collect()\n",
    "\n",
    "print(df_prenom_annee)"
   ]
  },
  {
   "cell_type": "code",
   "execution_count": 24,
   "id": "42ef4839-fb82-47cc-81ec-8a899c2e775c",
   "metadata": {},
   "outputs": [
    {
     "data": {
      "text/html": [
       "<div><style>\n",
       ".dataframe > thead > tr,\n",
       ".dataframe > tbody > tr {\n",
       "  text-align: right;\n",
       "  white-space: pre-wrap;\n",
       "}\n",
       "</style>\n",
       "<small>shape: (21, 2)</small><table border=\"1\" class=\"dataframe\"><thead><tr><th>annais</th><th>nombre_total</th></tr><tr><td>str</td><td>i64</td></tr></thead><tbody><tr><td>&quot;1960&quot;</td><td>251</td></tr><tr><td>&quot;1961&quot;</td><td>369</td></tr><tr><td>&quot;1962&quot;</td><td>357</td></tr><tr><td>&quot;1963&quot;</td><td>383</td></tr><tr><td>&quot;1964&quot;</td><td>449</td></tr><tr><td>&hellip;</td><td>&hellip;</td></tr><tr><td>&quot;1976&quot;</td><td>1248</td></tr><tr><td>&quot;1977&quot;</td><td>1101</td></tr><tr><td>&quot;1978&quot;</td><td>925</td></tr><tr><td>&quot;1979&quot;</td><td>882</td></tr><tr><td>&quot;1980&quot;</td><td>730</td></tr></tbody></table></div>"
      ],
      "text/plain": [
       "shape: (21, 2)\n",
       "┌────────┬──────────────┐\n",
       "│ annais ┆ nombre_total │\n",
       "│ ---    ┆ ---          │\n",
       "│ str    ┆ i64          │\n",
       "╞════════╪══════════════╡\n",
       "│ 1960   ┆ 251          │\n",
       "│ 1961   ┆ 369          │\n",
       "│ 1962   ┆ 357          │\n",
       "│ 1963   ┆ 383          │\n",
       "│ 1964   ┆ 449          │\n",
       "│ …      ┆ …            │\n",
       "│ 1976   ┆ 1248         │\n",
       "│ 1977   ┆ 1101         │\n",
       "│ 1978   ┆ 925          │\n",
       "│ 1979   ┆ 882          │\n",
       "│ 1980   ┆ 730          │\n",
       "└────────┴──────────────┘"
      ]
     },
     "execution_count": 24,
     "metadata": {},
     "output_type": "execute_result"
    }
   ],
   "source": [
    "file_prenoms.sql(f\"\"\"\n",
    "SELECT annais, \n",
    "       SUM(nombre) AS nombre_total\n",
    "  FROM self\n",
    " WHERE preusuel = 'KATIA'\n",
    "   AND annais != 'XXXX' \n",
    "   AND annais BETWEEN '{annee_debut}' AND '{annee_fin}'\n",
    " GROUP BY annais\n",
    " ORDER BY annais;\n",
    " \"\"\").collect()"
   ]
  },
  {
   "cell_type": "code",
   "execution_count": 25,
   "id": "ee31728a-ce5d-4df1-a7fa-fe8fbd3a55b0",
   "metadata": {},
   "outputs": [
    {
     "data": {
      "image/png": "[encoded data removed]",
      "text/plain": [
       "<Figure size 1000x600 with 1 Axes>"
      ]
     },
     "metadata": {},
     "output_type": "display_data"
    }
   ],
   "source": [
    "import matplotlib.pyplot as plt\n",
    "import seaborn as sns\n",
    "\n",
    "# Set seaborn style for a cleaner, more appealing look\n",
    "sns.set_theme(style=\"whitegrid\")\n",
    "\n",
    "# Create the plot\n",
    "fig, ax = plt.subplots(figsize=(10, 6))\n",
    "\n",
    "# Data\n",
    "years = df_prenom_annee[\"annais\"].to_list()         # Extracts years as a list\n",
    "counts = df_prenom_annee[\"nombre_total\"].to_list()  # Extracts counts as a list\n",
    "\n",
    "# Bar plot with custom colors and transparency for better visuals\n",
    "ax.bar(years, \n",
    "       counts, \n",
    "       color=\"#4C72B0\", \n",
    "       edgecolor=\"black\", \n",
    "       alpha=0.8)\n",
    "\n",
    "# Set labels and title with padding for readability\n",
    "ax.set_xlabel(\"Année\", fontsize=12, labelpad=10)\n",
    "ax.set_ylabel(\"Nombre d'occurences\", fontsize=12, labelpad=10)\n",
    "ax.set_title(f\"Occurrences du prénom {prenom} par année ({annee_debut}-{annee_fin})\", fontsize=14, pad=15)\n",
    "\n",
    "# Rotate x-axis labels, improve spacing, and format grid\n",
    "ax.tick_params(axis='x', rotation=45)\n",
    "plt.tight_layout()  # Adjust layout for tight fit\n",
    "\n",
    "# Display the plot\n",
    "plt.show()"
   ]
  },
  {
   "cell_type": "markdown",
   "id": "9b173230-4dc0-4a48-942e-2a6551480557",
   "metadata": {},
   "source": [
    "## Le prénom"
   ]
  },
  {
   "cell_type": "code",
   "execution_count": 26,
   "id": "43f175e6-5a85-409d-9f33-ba12ac738a4b",
   "metadata": {},
   "outputs": [],
   "source": [
    "prenoms_feminins = file_prenoms.sql(f\"\"\"\n",
    "SELECT preusuel, \n",
    "       SUM(nombre) AS nombre_total\n",
    "  FROM self\n",
    " WHERE preusuel != '_PRENOMS_RARES'\n",
    "   AND annais != 'XXXX' \n",
    "   AND sexe = 2\n",
    "   AND annais BETWEEN '1970' AND '2000'\n",
    " GROUP BY preusuel\n",
    " ORDER BY nombre_total DESC,\n",
    "          preusuel DESC;\n",
    " \"\"\").collect()"
   ]
  },
  {
   "cell_type": "code",
   "execution_count": 27,
   "id": "ff2b043e-c2cf-4222-a77f-6d579813293b",
   "metadata": {},
   "outputs": [
    {
     "data": {
      "text/plain": [
       "1672.0"
      ]
     },
     "execution_count": 27,
     "metadata": {},
     "output_type": "execute_result"
    }
   ],
   "source": [
    "(8363 - 3) / 5"
   ]
  },
  {
   "cell_type": "code",
   "execution_count": 28,
   "id": "2c2c0edd-1b91-4f45-87c9-809ed6d29d7a",
   "metadata": {},
   "outputs": [
    {
     "data": {
      "text/plain": [
       "('SERPIL', 271)"
      ]
     },
     "execution_count": 28,
     "metadata": {},
     "output_type": "execute_result"
    }
   ],
   "source": [
    "prenoms_feminins.row(1672)"
   ]
  },
  {
   "cell_type": "code",
   "execution_count": 29,
   "id": "04536fb4-865b-4b46-b0dd-7f31b7916fbc",
   "metadata": {},
   "outputs": [
    {
     "data": {
      "text/html": [
       "<div><style>\n",
       ".dataframe > thead > tr,\n",
       ".dataframe > tbody > tr {\n",
       "  text-align: right;\n",
       "  white-space: pre-wrap;\n",
       "}\n",
       "</style>\n",
       "<small>shape: (10, 3)</small><table border=\"1\" class=\"dataframe\"><thead><tr><th>index</th><th>preusuel</th><th>nombre_total</th></tr><tr><td>u32</td><td>str</td><td>i64</td></tr></thead><tbody><tr><td>1670</td><td>&quot;CHAHINEZ&quot;</td><td>272</td></tr><tr><td>1671</td><td>&quot;XAVIERE&quot;</td><td>271</td></tr><tr><td>1672</td><td>&quot;SERPIL&quot;</td><td>271</td></tr><tr><td>1673</td><td>&quot;OUARDIA&quot;</td><td>271</td></tr><tr><td>1674</td><td>&quot;KLARA&quot;</td><td>271</td></tr><tr><td>1675</td><td>&quot;ETHEL&quot;</td><td>271</td></tr><tr><td>1676</td><td>&quot;ALIMA&quot;</td><td>271</td></tr><tr><td>1677</td><td>&quot;NACIRA&quot;</td><td>270</td></tr><tr><td>1678</td><td>&quot;MARIE-ANGELIQUE&quot;</td><td>269</td></tr><tr><td>1679</td><td>&quot;NAZHA&quot;</td><td>268</td></tr></tbody></table></div>"
      ],
      "text/plain": [
       "shape: (10, 3)\n",
       "┌───────┬─────────────────┬──────────────┐\n",
       "│ index ┆ preusuel        ┆ nombre_total │\n",
       "│ ---   ┆ ---             ┆ ---          │\n",
       "│ u32   ┆ str             ┆ i64          │\n",
       "╞═══════╪═════════════════╪══════════════╡\n",
       "│ 1670  ┆ CHAHINEZ        ┆ 272          │\n",
       "│ 1671  ┆ XAVIERE         ┆ 271          │\n",
       "│ 1672  ┆ SERPIL          ┆ 271          │\n",
       "│ 1673  ┆ OUARDIA         ┆ 271          │\n",
       "│ 1674  ┆ KLARA           ┆ 271          │\n",
       "│ 1675  ┆ ETHEL           ┆ 271          │\n",
       "│ 1676  ┆ ALIMA           ┆ 271          │\n",
       "│ 1677  ┆ NACIRA          ┆ 270          │\n",
       "│ 1678  ┆ MARIE-ANGELIQUE ┆ 269          │\n",
       "│ 1679  ┆ NAZHA           ┆ 268          │\n",
       "└───────┴─────────────────┴──────────────┘"
      ]
     },
     "execution_count": 29,
     "metadata": {},
     "output_type": "execute_result"
    }
   ],
   "source": [
    "prenoms_feminins.with_row_index()[1670:1680]"
   ]
  },
  {
   "cell_type": "markdown",
   "id": "935e3ae8-86ad-49ba-8b7e-b0a2071aa03a",
   "metadata": {},
   "source": [
    "## Export"
   ]
  },
  {
   "cell_type": "code",
   "execution_count": 30,
   "id": "5c3fd286-9b48-4405-99ee-c1ac1cb65057",
   "metadata": {},
   "outputs": [
    {
     "name": "stderr",
     "output_type": "stream",
     "text": [
      "/tmp/ipykernel_2211/2215641480.py:12: UserWarning: Polars found a filename. Ensure you pass a path to the file instead of a python file object when possible for best performance.\n",
      "  top10f2021.write_csv(f)\n"
     ]
    }
   ],
   "source": [
    "import s3fs\n",
    "\n",
    "fs = s3fs.S3FileSystem(\n",
    "    client_kwargs={'endpoint_url': 'https://'+'minio-simple.lab.groupe-genes.fr'},\n",
    "    key = os.environ[\"AWS_ACCESS_KEY_ID\"], \n",
    "    secret = os.environ[\"AWS_SECRET_ACCESS_KEY\"], \n",
    "    token = os.environ[\"AWS_SESSION_TOKEN\"])\n",
    "\n",
    "destination = f\"s3://{s3_username}/ENSAI/SQL/output.csv\"\n",
    "\n",
    "with fs.open(destination, mode='wb') as f:\n",
    "    top10f2021.write_csv(f)"
   ]
  },
  {
   "cell_type": "code",
   "execution_count": null,
   "id": "49a66970-0e0e-4dae-9f87-58833079cd9a",
   "metadata": {},
   "outputs": [],
   "source": []
  }
 ],
 "metadata": {
  "kernelspec": {
   "display_name": "Python 3 (ipykernel)",
   "language": "python",
   "name": "python3"
  },
  "language_info": {
   "codemirror_mode": {
    "name": "ipython",
    "version": 3
   },
   "file_extension": ".py",
   "mimetype": "text/x-python",
   "name": "python",
   "nbconvert_exporter": "python",
   "pygments_lexer": "ipython3",
   "version": "3.12.6"
  }
 },
 "nbformat": 4,
 "nbformat_minor": 5
}
